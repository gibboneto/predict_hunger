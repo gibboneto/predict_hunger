{
 "cells": [
  {
   "cell_type": "markdown",
   "metadata": {},
   "source": [
    "# Modelling with SVM regressor<br>"
   ]
  },
  {
   "cell_type": "code",
   "execution_count": 1,
   "metadata": {},
   "outputs": [],
   "source": [
    "## Import packages\n",
    "import pandas as pd\n",
    "import numpy as np\n",
    "import numpy.random as nr\n",
    "import matplotlib.pyplot as plt\n",
    "import missingno as msno\n",
    "import sklearn.model_selection as ms\n",
    "import sklearn.metrics as sklm\n",
    "from sklearn import feature_selection as fs\n",
    "from sklearn import preprocessing\n",
    "from sklearn.svm import SVR\n",
    "from sklearn.feature_selection import RFE\n",
    "from sklearn.model_selection import GridSearchCV\n",
    "import scipy.stats as ss\n",
    "import seaborn as sns\n",
    "import math\n",
    "import warnings\n",
    "\n",
    "sns.set_style('darkgrid')\n",
    "warnings.filterwarnings('ignore')\n",
    "%matplotlib inline"
   ]
  },
  {
   "cell_type": "code",
   "execution_count": 2,
   "metadata": {},
   "outputs": [],
   "source": [
    "train = pd.read_csv('Unskewed_Train.csv', index_col=\"row_id\")\n",
    "labels = pd.read_csv('Predicting_Chronic_Hunger_Training_labels.csv', index_col=\"row_id\")\n",
    "test = pd.read_csv('Unskewed_Test.csv', index_col=\"row_id\")"
   ]
  },
  {
   "cell_type": "code",
   "execution_count": 3,
   "metadata": {},
   "outputs": [
    {
     "name": "stdout",
     "output_type": "stream",
     "text": [
      "The train data has 1337 rows and 35 columns\n",
      "-------------------------------------------\n",
      "The test data has 616 rows and 35 columns\n"
     ]
    }
   ],
   "source": [
    "print ('The train data has {0} rows and {1} columns'.format(train.shape[0],train.shape[1]))\n",
    "print ('-------------------------------------------')\n",
    "print ('The test data has {0} rows and {1} columns'.format(test.shape[0],train.shape[1]))"
   ]
  },
  {
   "cell_type": "code",
   "execution_count": 4,
   "metadata": {},
   "outputs": [],
   "source": [
    "train['undernourishment'] = labels.iloc[train.index]"
   ]
  },
  {
   "cell_type": "markdown",
   "metadata": {},
   "source": [
    "Functions to make copy of the imports, create training/test sets, print the metrics, save the results. "
   ]
  },
  {
   "cell_type": "code",
   "execution_count": 5,
   "metadata": {},
   "outputs": [],
   "source": [
    "def copy_values(train_features, train_labels, test_features):\n",
    "    ## Create features and labels for training/testing models:\n",
    "    features = train_features.copy().drop('undernourishment', axis=1)\n",
    "    labels = train_labels.copy()\n",
    "    labels = labels[labels.index.isin(features.index)]\n",
    "\n",
    "    ## Create a copy of the features datasets for which we want to predict values\n",
    "    predict = test_features.copy()\n",
    "    \n",
    "    return features, labels, predict\n",
    "\n",
    "def create_sets(Features, Labels, features_to_use):\n",
    "    \"\"\"Creates the X and y sets for training and testing.\n",
    "    \"\"\"    \n",
    "    ## Groupby country code to separate the countries in training and test set\n",
    "    nr.seed(1234)\n",
    "    grouped = Features.groupby('country_code')\n",
    "    indx = range(grouped.ngroups)\n",
    "    indx = ms.train_test_split(indx, test_size = 0.3, random_state=42)\n",
    "    \n",
    "    ## Create index of country_code\n",
    "    train_index = Features[Features['country_code'].isin([(list(np.array(list(grouped.groups.keys())))[ix]) for ix in indx[0]])].index\n",
    "    test_index = Features[Features['country_code'].isin([(list(np.array(list(grouped.groups.keys()))))[ix] for ix in indx[1]])].index\n",
    "\n",
    "\n",
    "    ## Create the train and test sets of features\n",
    "    X_train = np.array(Features[Features.index.isin(train_index)][features_to_use])\n",
    "    X_test = np.array(Features[Features.index.isin(test_index)][features_to_use])\n",
    "    ## Create the train and test sets of labels\n",
    "    y_train = np.ravel(np.array(Labels[Labels.index.isin(train_index)]))\n",
    "    y_test = np.ravel(np.array(Labels[Labels.index.isin(test_index)]))\n",
    "    \n",
    "    return X_train, y_train, X_test, y_test\n",
    "\n",
    "def print_metrics(y_true, y_predicted, n_parameters):\n",
    "    ## First compute R^2 and the adjusted R^2\n",
    "    r2 = sklm.r2_score(y_true, y_predicted)\n",
    "    r2_adj = r2 - (n_parameters - 1)/(y_true.shape[0] - n_parameters) * (1 - r2)\n",
    "    \n",
    "    ## Print the usual metrics and the R^2 values\n",
    "    print('Mean Square Error      = ' + str(sklm.mean_squared_error(y_true, y_predicted)))\n",
    "    print('Root Mean Square Error = ' + str(math.sqrt(sklm.mean_squared_error(y_true, y_predicted))))\n",
    "    print('Mean Absolute Error    = ' + str(sklm.mean_absolute_error(y_true, y_predicted)))\n",
    "    print('Median Absolute Error  = ' + str(sklm.median_absolute_error(y_true, y_predicted)))\n",
    "    print('R^2                    = ' + str(r2))\n",
    "    print('Adjusted R^2           = ' + str(r2_adj))\n",
    "\n",
    "    \n",
    "    \n",
    "## PRINT THE CROSS VALIDATION RESULTS:\n",
    "\n",
    "\n",
    "def print_format(f,x,y,z):\n",
    "    print('Fold %2d    %4.3f        %4.3f      %4.3f' % (f, x, y, z))\n",
    "\n",
    "def print_cv(scores):\n",
    "    fold = [x + 1 for x in range(len(scores['test_neg_mean_squared_error']))]\n",
    "    \n",
    "    print('           RMSE         R2         Explained Var')\n",
    "    \n",
    "    [print_format(f,x,y,z) for f,x,y,z in zip(fold, np.sqrt(abs(scores['test_neg_mean_squared_error'])), \n",
    "                                          scores['test_r2'],\n",
    "                                          scores['test_explained_variance'])]\n",
    "    print('-' * 40)\n",
    "    print('Mean       %4.3f        %4.3f      %4.3f' % \n",
    "          (np.mean(np.sqrt(abs((scores['test_neg_mean_squared_error'])))), np.mean(scores['test_r2']), np.mean(scores['test_explained_variance'])))  \n",
    "    print('Std        %4.3f        %4.3f      %4.3f' % \n",
    "          (np.std(np.sqrt(abs((scores['test_neg_mean_squared_error'])))), np.std(scores['test_r2']), np.std(scores['test_explained_variance'])))"
   ]
  },
  {
   "cell_type": "code",
   "execution_count": 6,
   "metadata": {},
   "outputs": [],
   "source": [
    "to_use = list(train.columns[1:-1])"
   ]
  },
  {
   "cell_type": "markdown",
   "metadata": {},
   "source": [
    "## SVM Regressor:\n",
    "\n",
    "Doesn't assume normality but try to minimize a symetric loss functions. SVMs assume that the data it works with is in a standard range, usually either 0 to 1, or -1 to 1 (roughly). So the normalization of feature vectors prior to feeding them to the SVM is very important."
   ]
  },
  {
   "cell_type": "code",
   "execution_count": 7,
   "metadata": {},
   "outputs": [],
   "source": [
    "# Make a copy of the imports\n",
    "features, labels, predict = copy_values(train, labels, test)\n",
    "# Create the training and test sets\n",
    "X_train, y_train, X_test, y_test = create_sets(features, labels, to_use)\n",
    "\n",
    "# Scale the features on the training set\n",
    "scaler = preprocessing.StandardScaler().fit(X_train)\n",
    "X_train = scaler.transform(X_train)\n",
    "X_test = scaler.transform(X_test)"
   ]
  },
  {
   "cell_type": "code",
   "execution_count": 8,
   "metadata": {},
   "outputs": [
    {
     "name": "stdout",
     "output_type": "stream",
     "text": [
      "Mean Square Error      = 58.52800309948059\n",
      "Root Mean Square Error = 7.650359671249489\n",
      "Mean Absolute Error    = 5.95118701335013\n",
      "Median Absolute Error  = 4.791613957078607\n",
      "R^2                    = 0.5866217776348961\n",
      "Adjusted R^2           = 0.5846102047766717\n"
     ]
    }
   ],
   "source": [
    "SVMreg = SVR(kernel='linear')\n",
    "SVMreg.fit(X_train, y_train)\n",
    "\n",
    "scores = SVMreg.predict(X_test)\n",
    "print_metrics(y_test, scores, 3)"
   ]
  },
  {
   "cell_type": "markdown",
   "metadata": {},
   "source": [
    "Our results seem encouraging. We will try to reduce the number of feature. However, Sklearn implementation doesn't allow feature selection with kernels other than linear."
   ]
  },
  {
   "cell_type": "code",
   "execution_count": 9,
   "metadata": {},
   "outputs": [],
   "source": [
    "def hist_resids(y_test, y_score):\n",
    "    ## first compute vector of residuals. \n",
    "    resids = np.subtract(y_test.reshape(-1,1), y_score.reshape(-1,1))\n",
    "    ## now make the residual plots\n",
    "    sns.distplot(resids)\n",
    "    plt.title('Histogram of residuals')\n",
    "    plt.xlabel('Residual value')\n",
    "    plt.ylabel('count')\n",
    "    plt.show()\n",
    "    \n",
    "def resid_qq(y_test, y_score):\n",
    "    ## first compute vector of residuals. \n",
    "    resids = np.subtract(y_test, y_score)\n",
    "    ## now make the residual plots\n",
    "    ss.probplot(resids.flatten(), plot = plt)\n",
    "    plt.title('Residuals vs. predicted values')\n",
    "    plt.xlabel('Predicted values')\n",
    "    plt.ylabel('Residual')\n",
    "    plt.show()"
   ]
  },
  {
   "cell_type": "code",
   "execution_count": 10,
   "metadata": {},
   "outputs": [
    {
     "data": {
      "image/png": "[encoded data removed]",
      "text/plain": [
       "<Figure size 432x288 with 1 Axes>"
      ]
     },
     "metadata": {},
     "output_type": "display_data"
    },
    {
     "data": {
      "image/png": "[encoded data removed]",
      "text/plain": [
       "<Figure size 432x288 with 1 Axes>"
      ]
     },
     "metadata": {},
     "output_type": "display_data"
    }
   ],
   "source": [
    "hist_resids(y_test, scores)  \n",
    "resid_qq(y_test, scores)"
   ]
  },
  {
   "cell_type": "markdown",
   "metadata": {},
   "source": [
    "## Recursive Feature Elimination"
   ]
  },
  {
   "cell_type": "code",
   "execution_count": 11,
   "metadata": {},
   "outputs": [],
   "source": [
    "X_train, y_train, X_test, y_test = create_sets(train, train['undernourishment'], to_use)\n",
    "# Scale the features on the training set\n",
    "scaler = preprocessing.StandardScaler().fit(X_train)\n",
    "X_train = scaler.transform(X_train)\n",
    "X_test = scaler.transform(X_test)"
   ]
  },
  {
   "cell_type": "code",
   "execution_count": 12,
   "metadata": {},
   "outputs": [
    {
     "data": {
      "text/plain": [
       "array([13,  1,  1, 11, 16,  1, 18,  1,  4,  1,  1, 10,  9,  3, 15,  2,  5,\n",
       "       17,  1,  1,  8,  1,  1,  1,  1, 12, 14,  7,  1,  1,  1,  1,  6,  1])"
      ]
     },
     "execution_count": 12,
     "metadata": {},
     "output_type": "execute_result"
    }
   ],
   "source": [
    "estimator = SVR(kernel='linear') ## Only available for linear kernel. The results with the features reduced are however worse. \n",
    "selector = RFE(estimator)\n",
    "selector = selector.fit(X_train, y_train)\n",
    "selector.support_\n",
    "selector.ranking_"
   ]
  },
  {
   "cell_type": "code",
   "execution_count": 13,
   "metadata": {},
   "outputs": [
    {
     "data": {
      "text/plain": [
       "['agricultural_land_area',\n",
       " 'percentage_of_arable_land_equipped_for_irrigation',\n",
       " 'fertility_rate',\n",
       " 'rural_population',\n",
       " 'avg_value_of_food_production',\n",
       " 'cereal_import_dependency_ratio',\n",
       " 'avg_supply_of_protein_of_animal_origin',\n",
       " 'caloric_energy_from_cereals_roots_tubers',\n",
       " 'anemia_prevalence',\n",
       " 'obesity_prevalence',\n",
       " 'open_defecation',\n",
       " 'co2_emissions',\n",
       " 'urban_population_share',\n",
       " 'co2em_share',\n",
       " 'adult_illiteracy_rate',\n",
       " 'no_electricity',\n",
       " 'no_access_water_sources']"
      ]
     },
     "execution_count": 13,
     "metadata": {},
     "output_type": "execute_result"
    }
   ],
   "source": [
    "## Features selected with RFE\n",
    "indexes = [i for i, x in enumerate(selector.ranking_) if x == 1 ]\n",
    "RFE_features = list(np.array(to_use)[indexes])\n",
    "RFE_features"
   ]
  },
  {
   "cell_type": "code",
   "execution_count": 14,
   "metadata": {},
   "outputs": [
    {
     "name": "stdout",
     "output_type": "stream",
     "text": [
      "Mean Square Error      = 55.88587370200682\n",
      "Root Mean Square Error = 7.475685500474643\n",
      "Mean Absolute Error    = 5.646997045084182\n",
      "Median Absolute Error  = 4.221812894218411\n",
      "R^2                    = 0.6052829089864966\n",
      "Adjusted R^2           = 0.6033621445533409\n"
     ]
    }
   ],
   "source": [
    "# Make a copy of the imports\n",
    "features, labels, predict = copy_values(train, labels, test)\n",
    "# Create the training and test sets\n",
    "X_train, y_train, X_test, y_test = create_sets(features, labels, RFE_features)\n",
    "\n",
    "# Scale the features on the training set\n",
    "scaler = preprocessing.StandardScaler().fit(X_train)\n",
    "X_train = scaler.transform(X_train)\n",
    "X_test = scaler.transform(X_test)\n",
    "\n",
    "SVMreg.fit(X_train, y_train)\n",
    "\n",
    "scores = SVMreg.predict(X_test)\n",
    "print_metrics(y_test, scores, 3)"
   ]
  },
  {
   "cell_type": "code",
   "execution_count": 15,
   "metadata": {},
   "outputs": [
    {
     "name": "stdout",
     "output_type": "stream",
     "text": [
      "           RMSE         R2         Explained Var\n",
      "Fold  1    7.509        0.653      0.672\n",
      "Fold  2    6.761        0.698      0.710\n",
      "Fold  3    6.527        0.642      0.649\n",
      "Fold  4    6.082        0.672      0.673\n",
      "Fold  5    6.295        0.698      0.707\n",
      "----------------------------------------\n",
      "Mean       6.635        0.673      0.682\n",
      "Std        0.493        0.023      0.023\n"
     ]
    }
   ],
   "source": [
    "scoring = ['neg_mean_squared_error', 'r2', 'explained_variance']\n",
    "scores = ms.cross_validate(estimator = SVMreg, X = X_train, y = y_train, scoring=scoring, cv=5, return_train_score=False)\n",
    "print_cv(scores)"
   ]
  },
  {
   "cell_type": "markdown",
   "metadata": {},
   "source": [
    "With Recursive Features Elimination, we reduce the datasets from 34 features to 17 improving the RMSE."
   ]
  },
  {
   "cell_type": "markdown",
   "metadata": {},
   "source": [
    "## Tuning Hyper Parameters (C, gamma and the kernel)"
   ]
  },
  {
   "cell_type": "code",
   "execution_count": null,
   "metadata": {},
   "outputs": [],
   "source": [
    "X_train, y_train, X_test, y_test = create_sets(train, train['undernourishment'], to_use)\n",
    "\n",
    "# Scale the features on the training set\n",
    "scaler = preprocessing.StandardScaler().fit(X_train)\n",
    "X_train = scaler.transform(X_train)\n",
    "X_test = scaler.transform(X_test)\n",
    "\n",
    "# Instantiate model\n",
    "estimator = SVR()\n",
    "# Parameter grid\n",
    "parameters = {'C':[0.1, 1, 10, 100, 1000], \n",
    "              'epsilon': [0.1, 0.01, 0.001, 0.0001, 0.00001]}\n",
    "\n",
    "# Gridsearch with 5 folds cross-validation:\n",
    "SVR_gridsearch = GridSearchCV(estimator, parameters, cv=5, scoring='neg_mean_squared_error')\n",
    "SVR_gridsearch.fit(X_train, y_train)"
   ]
  },
  {
   "cell_type": "code",
   "execution_count": null,
   "metadata": {},
   "outputs": [],
   "source": [
    "SVR_gridsearch.best_params_"
   ]
  },
  {
   "cell_type": "code",
   "execution_count": null,
   "metadata": {},
   "outputs": [],
   "source": [
    "# Make a copy of the imports\n",
    "features, labels, predict = copy_values(train, labels, test)\n",
    "\n",
    "# Create the training and test sets\n",
    "X_train, y_train, X_test, y_test = create_sets(features, labels, to_use)\n",
    "\n",
    "# Scale the features on the training set\n",
    "scaler = preprocessing.StandardScaler().fit(X_train)\n",
    "X_train = scaler.transform(X_train)\n",
    "X_test = scaler.transform(X_test)\n",
    "\n",
    "SVRbest = SVR(kernel='linear', C=1000, epsilon=0.1, gamma='auto', tol = 0.001)\n",
    "SVRbest.fit(X_train, y_train)\n",
    "\n",
    "scores = SVRbest.predict(X_test)\n",
    "print_metrics(y_test, scores, 3)"
   ]
  },
  {
   "cell_type": "markdown",
   "metadata": {},
   "source": [
    "The tuned HyperParameters set seem to yield worse results than the default following results."
   ]
  },
  {
   "cell_type": "code",
   "execution_count": null,
   "metadata": {},
   "outputs": [],
   "source": [
    "SVMreg.get_params()"
   ]
  },
  {
   "cell_type": "code",
   "execution_count": null,
   "metadata": {},
   "outputs": [],
   "source": [
    "hist_resids(y_test, scores)  \n",
    "resid_qq(y_test, scores)"
   ]
  },
  {
   "cell_type": "code",
   "execution_count": null,
   "metadata": {},
   "outputs": [],
   "source": [
    "scoring = ['neg_mean_squared_error', 'r2', 'explained_variance']\n",
    "scores = ms.cross_validate(estimator = SVMreg, X = X_train, y = y_train, scoring=scoring, cv=5, return_train_score=False)\n",
    "print_cv(scores)"
   ]
  }
 ],
 "metadata": {
  "kernelspec": {
   "display_name": "Python 3",
   "language": "python",
   "name": "python3"
  },
  "language_info": {
   "codemirror_mode": {
    "name": "ipython",
    "version": 3
   },
   "file_extension": ".py",
   "mimetype": "text/x-python",
   "name": "python",
   "nbconvert_exporter": "python",
   "pygments_lexer": "ipython3",
   "version": "3.6.5"
  }
 },
 "nbformat": 4,
 "nbformat_minor": 2
}
